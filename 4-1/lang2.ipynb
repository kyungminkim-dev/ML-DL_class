{
 "cells": [
  {
   "cell_type": "code",
   "execution_count": 29,
   "metadata": {},
   "outputs": [],
   "source": [
    "import numpy as np\n",
    "from sklearn.naive_bayes import GaussianNB\n",
    "from sklearn.metrics import accuracy_score\n",
    "import glob "
   ]
  },
  {
   "cell_type": "code",
   "execution_count": 30,
   "metadata": {},
   "outputs": [],
   "source": [
    "def count_codePoint(str):\n",
    "    counter = np.zeros(65535)\n",
    "    \n",
    "    for i in range(len(str)):\n",
    "        code_point = ord(str[i])\n",
    "        \n",
    "        if code_point > 65535:\n",
    "            continue\n",
    "        counter[code_point] += 1\n",
    "        \n",
    "    counter = counter / len(str)\n",
    "    return counter"
   ]
  },
  {
   "cell_type": "code",
   "execution_count": 31,
   "metadata": {},
   "outputs": [],
   "source": [
    "index = 0\n",
    "x_train = []\n",
    "y_train = []\n",
    "for file in glob.glob(\"./train/*txt\"):\n",
    "    y_train.append(file[8:10])\n",
    "    \n",
    "    file_str = ''\n",
    "    for line in open(file, 'r', encoding = 'utf-8'):\n",
    "        file_str = file_str + line\n",
    "    x_train.append(count_codePoint(file_str))"
   ]
  },
  {
   "cell_type": "code",
   "execution_count": 32,
   "metadata": {},
   "outputs": [
    {
     "data": {
      "text/plain": [
       "GaussianNB(priors=None, var_smoothing=1e-09)"
      ]
     },
     "execution_count": 32,
     "metadata": {},
     "output_type": "execute_result"
    }
   ],
   "source": [
    "clf = GaussianNB()\n",
    "clf.fit(x_train, y_train)"
   ]
  },
  {
   "cell_type": "code",
   "execution_count": 35,
   "metadata": {},
   "outputs": [],
   "source": [
    "index = 0\n",
    "x_test = []\n",
    "y_test = []\n",
    "for file in glob.glob('./test/*.txt'):\n",
    "    y_test.append(file[7:9])\n",
    "    \n",
    "    file_str = ''\n",
    "    for line in open(file, 'r', encoding = 'utf-8'):\n",
    "        file_str = file_str + line\n",
    "    x_test.append(count_codePoint(file_str))"
   ]
  },
  {
   "cell_type": "code",
   "execution_count": 37,
   "metadata": {},
   "outputs": [
    {
     "name": "stdout",
     "output_type": "stream",
     "text": [
      "['de' 'en' 'es']\n",
      "정답률 = 1.0\n"
     ]
    }
   ],
   "source": [
    "y_pred = clf.predict(x_test)\n",
    "print(y_pred)\n",
    "print(f\"정답률 = {accuracy_score(y_test, y_pred)}\")"
   ]
  },
  {
   "cell_type": "code",
   "execution_count": null,
   "metadata": {},
   "outputs": [],
   "source": []
  }
 ],
 "metadata": {
  "kernelspec": {
   "display_name": "Python 3",
   "language": "python",
   "name": "python3"
  },
  "language_info": {
   "codemirror_mode": {
    "name": "ipython",
    "version": 3
   },
   "file_extension": ".py",
   "mimetype": "text/x-python",
   "name": "python",
   "nbconvert_exporter": "python",
   "pygments_lexer": "ipython3",
   "version": "3.6.10"
  }
 },
 "nbformat": 4,
 "nbformat_minor": 4
}
