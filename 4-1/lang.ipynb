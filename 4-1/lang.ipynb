{
 "cells": [
  {
   "cell_type": "code",
   "execution_count": 24,
   "metadata": {},
   "outputs": [],
   "source": [
    "import numpy as np\n",
    "from sklearn.naive_bayes import GaussianNB\n",
    "from sklearn.metrics import accuracy_score"
   ]
  },
  {
   "cell_type": "code",
   "execution_count": 25,
   "metadata": {},
   "outputs": [],
   "source": [
    "def count_codePoint(str):\n",
    "    counter = np.zeros(65535)\n",
    "    \n",
    "    for i in range(len(str)):\n",
    "        code_point = ord(str[i])\n",
    "        if code_point > 65535:\n",
    "            continue\n",
    "        counter[code_point] += 1\n",
    "    \n",
    "    counter = counter/len(str)\n",
    "    return counter"
   ]
  },
  {
   "cell_type": "code",
   "execution_count": 26,
   "metadata": {},
   "outputs": [],
   "source": [
    "ko_str = \"이것은 한국어 문장입니다.\"\n",
    "ja_str = \"これは日本の文章です\"\n",
    "en_str = \"This is English Sentences.\""
   ]
  },
  {
   "cell_type": "code",
   "execution_count": 27,
   "metadata": {},
   "outputs": [
    {
     "name": "stdout",
     "output_type": "stream",
     "text": [
      "index = 32,  value = 0.14285714285714285\n",
      "index = 46,  value = 0.07142857142857142\n",
      "index = 44163,  value = 0.07142857142857142\n",
      "index = 44397,  value = 0.07142857142857142\n",
      "index = 45768,  value = 0.07142857142857142\n",
      "index = 45796,  value = 0.07142857142857142\n",
      "index = 47928,  value = 0.07142857142857142\n",
      "index = 50612,  value = 0.07142857142857142\n",
      "index = 51008,  value = 0.07142857142857142\n",
      "index = 51060,  value = 0.07142857142857142\n",
      "index = 51077,  value = 0.07142857142857142\n",
      "index = 51109,  value = 0.07142857142857142\n",
      "index = 54620,  value = 0.07142857142857142\n",
      "65535\n"
     ]
    }
   ],
   "source": [
    "answer = count_codePoint(ko_str)\n",
    "for i, v in enumerate(answer):\n",
    "    if v != 0:\n",
    "        print(f\"index = {i},  value = {v}\")\n",
    "print(len(answer))"
   ]
  },
  {
   "cell_type": "code",
   "execution_count": 28,
   "metadata": {},
   "outputs": [],
   "source": [
    "x_train = [count_codePoint(ko_str), count_codePoint(ja_str), count_codePoint(en_str)]\n",
    "y_train = [\"ko\",\"ja\",\"en\"]"
   ]
  },
  {
   "cell_type": "code",
   "execution_count": 29,
   "metadata": {},
   "outputs": [
    {
     "data": {
      "text/plain": [
       "GaussianNB(priors=None, var_smoothing=1e-09)"
      ]
     },
     "execution_count": 29,
     "metadata": {},
     "output_type": "execute_result"
    }
   ],
   "source": [
    "clf = GaussianNB()\n",
    "clf.fit(x_train, y_train)"
   ]
  },
  {
   "cell_type": "code",
   "execution_count": 31,
   "metadata": {},
   "outputs": [],
   "source": [
    "ko_test_str = \"안녕하세요\"\n",
    "ja_test_str = \"こんにちは\"\n",
    "en_test_str = \"Hello\""
   ]
  },
  {
   "cell_type": "code",
   "execution_count": 32,
   "metadata": {},
   "outputs": [],
   "source": [
    "x_test = [count_codePoint(ko_test_str), count_codePoint(ja_test_str), count_codePoint(en_test_str)]\n",
    "y_test = [\"ko\",\"ja\",\"en\"]"
   ]
  },
  {
   "cell_type": "code",
   "execution_count": 34,
   "metadata": {},
   "outputs": [
    {
     "name": "stdout",
     "output_type": "stream",
     "text": [
      "['ko' 'ja' 'en']\n",
      "정답률 : 1.0\n"
     ]
    }
   ],
   "source": [
    "y_pred = clf.predict(x_test)\n",
    "print(y_pred)\n",
    "print(f\"정답률 : {accuracy_score(y_test, y_pred)}\")"
   ]
  },
  {
   "cell_type": "code",
   "execution_count": null,
   "metadata": {},
   "outputs": [],
   "source": []
  }
 ],
 "metadata": {
  "kernelspec": {
   "display_name": "Python 3",
   "language": "python",
   "name": "python3"
  },
  "language_info": {
   "codemirror_mode": {
    "name": "ipython",
    "version": 3
   },
   "file_extension": ".py",
   "mimetype": "text/x-python",
   "name": "python",
   "nbconvert_exporter": "python",
   "pygments_lexer": "ipython3",
   "version": "3.6.10"
  }
 },
 "nbformat": 4,
 "nbformat_minor": 4
}
